{
 "cells": [
  {
   "cell_type": "markdown",
   "metadata": {},
   "source": [
    "Start with exporting Zeiss AMZ Attribution reports at the Product level. Files should save in Downloads folder by default.\n",
    "https://advertising.amazon.com/attribution/campaigns?entityId=ENTITY22J5BMAIHR9X4"
   ]
  },
  {
   "cell_type": "code",
   "execution_count": 54,
   "metadata": {},
   "outputs": [],
   "source": [
    "import duckdb\n",
    "import pandas as pd\n",
    "import os\n",
    "import shutil\n",
    "from datetime import datetime\n",
    "from datetime import date\n",
    "\n",
    "# Create folder and file variables\n",
    "downloads = '../../../Downloads'\n",
    "dl_files = os.listdir(downloads)\n",
    "gdrive = 'G:/Shared drives/Paid Search and Social/Client Folders/Zeiss/Reporting/XLSX'"
   ]
  },
  {
   "cell_type": "code",
   "execution_count": 55,
   "metadata": {},
   "outputs": [
    {
     "name": "stdout",
     "output_type": "stream",
     "text": [
      "2024-10-15\n",
      "moved Amazon_Attribution_campaign_products to G:/Shared drives/Paid Search and Social/Client Folders/Zeiss/Reporting/XLSX!\n",
      "moved Amazon_Attribution_campaign_products to G:/Shared drives/Paid Search and Social/Client Folders/Zeiss/Reporting/XLSX!\n",
      "moved Amazon_Attribution_campaign_products to G:/Shared drives/Paid Search and Social/Client Folders/Zeiss/Reporting/XLSX!\n",
      "moved Amazon_Attribution_campaign_products to G:/Shared drives/Paid Search and Social/Client Folders/Zeiss/Reporting/XLSX!\n",
      "moved Amazon_Attribution_campaign_products to G:/Shared drives/Paid Search and Social/Client Folders/Zeiss/Reporting/XLSX!\n",
      "moved Amazon_Attribution_campaign_products to G:/Shared drives/Paid Search and Social/Client Folders/Zeiss/Reporting/XLSX!\n",
      "moved Amazon_Attribution_campaign_products to G:/Shared drives/Paid Search and Social/Client Folders/Zeiss/Reporting/XLSX!\n",
      "moved Amazon_Attribution_campaign_products to G:/Shared drives/Paid Search and Social/Client Folders/Zeiss/Reporting/XLSX!\n",
      "moved Amazon_Attribution_campaign_products to G:/Shared drives/Paid Search and Social/Client Folders/Zeiss/Reporting/XLSX!\n",
      "moved Amazon_Attribution_campaign_products to G:/Shared drives/Paid Search and Social/Client Folders/Zeiss/Reporting/XLSX!\n",
      "moved Amazon_Attribution_campaign_products to G:/Shared drives/Paid Search and Social/Client Folders/Zeiss/Reporting/XLSX!\n",
      "moved Amazon_Attribution_campaign_products to G:/Shared drives/Paid Search and Social/Client Folders/Zeiss/Reporting/XLSX!\n",
      "moved Amazon_Attribution_campaign_products to G:/Shared drives/Paid Search and Social/Client Folders/Zeiss/Reporting/XLSX!\n",
      "moved Amazon_Attribution_campaign_products to G:/Shared drives/Paid Search and Social/Client Folders/Zeiss/Reporting/XLSX!\n",
      "moved Amazon_Attribution_campaign_products to G:/Shared drives/Paid Search and Social/Client Folders/Zeiss/Reporting/XLSX!\n"
     ]
    }
   ],
   "source": [
    "# Get AMZ Attr Reports in Downloads folder\n",
    "\n",
    "# Find downloads and get target file names\n",
    "name = 'Amazon_Attribution_campaign_products'\n",
    "date = date.today()\n",
    "attr_files = []\n",
    "print(date)\n",
    "# Loop through download folder\n",
    "for file in dl_files:\n",
    "    file_path = f'{downloads}/{file}'\n",
    "    # print(file)\n",
    "    # print(file_path)\n",
    "    \n",
    "    file_time = os.path.getctime(file_path)\n",
    "    created_at = date.fromtimestamp(file_time)\n",
    "    if name in file and created_at.month == date.month:\n",
    "        attr_files.append(file_path) #file_path for targeting whole file path; file for targeting file name (no ext)\n",
    "        shutil.move(file_path, gdrive)\n",
    "        print(f'moved {name} to {gdrive}!')\n",
    "\n",
    "\n"
   ]
  },
  {
   "cell_type": "code",
   "execution_count": 51,
   "metadata": {},
   "outputs": [
    {
     "name": "stdout",
     "output_type": "stream",
     "text": [
      "['archive', 'Amazon_Attribution_campaign_products_Oct_15_2024 (2).csv', 'Amazon_Attribution_campaign_products_Oct_15_2024 (3).csv', 'Amazon_Attribution_campaign_products_Oct_15_2024 (4).csv', 'Amazon_Attribution_campaign_products_Oct_15_2024.csv', 'Amazon_Attribution_campaign_products_Oct_15_2024 (1).csv']\n",
      "moving archive to G:/Shared drives/Paid Search and Social/Client Folders/Zeiss/Reporting/XLSX\\archive!\n",
      "moving Amazon_Attribution_campaign_products_Oct_15_2024 (2).csv to G:/Shared drives/Paid Search and Social/Client Folders/Zeiss/Reporting/XLSX\\archive!\n",
      "moving Amazon_Attribution_campaign_products_Oct_15_2024 (3).csv to G:/Shared drives/Paid Search and Social/Client Folders/Zeiss/Reporting/XLSX\\archive!\n",
      "moving Amazon_Attribution_campaign_products_Oct_15_2024 (4).csv to G:/Shared drives/Paid Search and Social/Client Folders/Zeiss/Reporting/XLSX\\archive!\n",
      "moving Amazon_Attribution_campaign_products_Oct_15_2024.csv to G:/Shared drives/Paid Search and Social/Client Folders/Zeiss/Reporting/XLSX\\archive!\n",
      "moving Amazon_Attribution_campaign_products_Oct_15_2024 (1).csv to G:/Shared drives/Paid Search and Social/Client Folders/Zeiss/Reporting/XLSX\\archive!\n"
     ]
    }
   ],
   "source": [
    "# Clear G Drive Folder\n",
    "# Archive existing GDrive\n",
    "g_files = os.listdir(gdrive)\n",
    "print(g_files)\n",
    "\n",
    "# Move files to gdrive folder\n",
    "for g in g_files:\n",
    "    src = os.path.join(gdrive, g)\n",
    "    archive = os.path.join(gdrive,'archive')\n",
    "    shutil.copy(src, archive)\n",
    "    print(f'moving {g} to {archive}!')"
   ]
  },
  {
   "cell_type": "markdown",
   "metadata": {},
   "source": [
    "archive_gdrive\n",
    "- Find folder\n",
    "- Get all files in folder\n",
    "- Move files to archive\n",
    "\n",
    "move_files\n",
    "- Find export AMZ Attr data in Downloads folder\n",
    "- Find target files by file name\n",
    "- Move files to output directory\n",
    "\n",
    "gsheets script:\n",
    "- If new files detected\n",
    "- Copy contents to desired sheet tabs\n",
    "\n",
    "zeiss_pipeline:\n",
    "- Extract data from Google Sheets\n",
    "- Create tables / views for needed outputs\n",
    "- Join tables and preview views\n",
    "- Push to postgres or push to Google Sheets for Data Studio?"
   ]
  }
 ],
 "metadata": {
  "kernelspec": {
   "display_name": ".venv",
   "language": "python",
   "name": "python3"
  },
  "language_info": {
   "codemirror_mode": {
    "name": "ipython",
    "version": 3
   },
   "file_extension": ".py",
   "mimetype": "text/x-python",
   "name": "python",
   "nbconvert_exporter": "python",
   "pygments_lexer": "ipython3",
   "version": "3.12.1"
  }
 },
 "nbformat": 4,
 "nbformat_minor": 2
}
