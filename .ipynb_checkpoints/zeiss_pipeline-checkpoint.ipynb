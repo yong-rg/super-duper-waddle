{
 "cells": [
  {
   "cell_type": "code",
   "execution_count": null,
   "id": "c0c81b46",
   "metadata": {},
   "outputs": [],
   "source": [
    "!pip install duckdb"
   ]
  },
  {
   "cell_type": "code",
   "execution_count": 2,
   "id": "29771711",
   "metadata": {},
   "outputs": [],
   "source": [
    "import pandas as pd\n",
    "import openpyxl\n",
    "import sys"
   ]
  },
  {
   "cell_type": "code",
   "execution_count": 3,
   "id": "e6ddaf8c",
   "metadata": {},
   "outputs": [
    {
     "name": "stdout",
     "output_type": "stream",
     "text": [
      "C:\\Users\\24G\\anaconda3\\python.exe\n"
     ]
    }
   ],
   "source": [
    "print(sys.executable)"
   ]
  },
  {
   "cell_type": "code",
   "execution_count": null,
   "id": "8339524f",
   "metadata": {},
   "outputs": [],
   "source": [
    "amz = 'https://docs.google.com/spreadsheets/d/1pP8jJDYPS1nHjHHDM1IycjtdFLLJIA8kRQ5AaC32Su0'\n",
    "google = 'https://docs.google.com/spreadsheets/d/1oADSDDLjFmVs5tkc6KxJQW5B0VRg1qxaSqtQSV6EemA'\n",
    "\n",
    "urls = [amz, google]"
   ]
  },
  {
   "cell_type": "code",
   "execution_count": null,
   "id": "ccb67102",
   "metadata": {},
   "outputs": [],
   "source": [
    "print(amz)\n",
    "u = f'{amz}/export?format=xlsx'\n",
    "\n",
    "xl = pd.ExcelFile(u)\n",
    "\n",
    "sheet_names = xl.sheet_names\n",
    "num_sheets = len(sheet_names)\n",
    "print(sheet_names)\n",
    "print(num_sheets)\n",
    "\n",
    "df = pd.read_excel(xl,2)\n",
    "\n",
    "df = pd.DataFrame(df)\n",
    "\n",
    "display(df)\n",
    "\n",
    "# display(df)\n",
    "\n",
    "duckdb.sql(f\"\"\"CREATE TABLE IF NOT EXISTS amz AS SELECT * FROM df\"\"\")\n"
   ]
  },
  {
   "cell_type": "code",
   "execution_count": null,
   "id": "de9b3881",
   "metadata": {},
   "outputs": [],
   "source": [
    "print(google)\n",
    "u = f'{google}/export?format=xlsx'\n",
    "\n",
    "xl = pd.ExcelFile(u)\n",
    "\n",
    "sheet_names = xl.sheet_names\n",
    "num_sheets = len(sheet_names)\n",
    "print(sheet_names)\n",
    "print(num_sheets)\n",
    "\n",
    "df = pd.read_excel(xl,3)\n",
    "\n",
    "df = pd.DataFrame(df)\n",
    "\n",
    "display(df)\n",
    "\n",
    "# display(df)\n",
    "\n",
    "duckdb.sql(f\"\"\"CREATE TABLE IF NOT EXISTS google AS SELECT * FROM df\"\"\")\n"
   ]
  },
  {
   "cell_type": "code",
   "execution_count": null,
   "id": "4fb56e31",
   "metadata": {},
   "outputs": [],
   "source": [
    "duckdb.sql(\"\"\"\n",
    "            CREATE TABLE amz AS SELECT * FROM df\n",
    "           \"\"\")"
   ]
  },
  {
   "cell_type": "code",
   "execution_count": null,
   "id": "0e088f90",
   "metadata": {},
   "outputs": [],
   "source": [
    "duckdb.execute(\"\"\"\n",
    "            SELECT *\n",
    "            FROM google\n",
    "            LIMIT 10\n",
    "\"\"\").df()"
   ]
  },
  {
   "cell_type": "code",
   "execution_count": null,
   "id": "57d2824a",
   "metadata": {},
   "outputs": [],
   "source": []
  }
 ],
 "metadata": {
  "kernelspec": {
   "display_name": "Python 3 (ipykernel)",
   "language": "python",
   "name": "python3"
  },
  "language_info": {
   "codemirror_mode": {
    "name": "ipython",
    "version": 3
   },
   "file_extension": ".py",
   "mimetype": "text/x-python",
   "name": "python",
   "nbconvert_exporter": "python",
   "pygments_lexer": "ipython3",
   "version": "3.9.13"
  }
 },
 "nbformat": 4,
 "nbformat_minor": 5
}
